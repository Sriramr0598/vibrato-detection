{
 "cells": [
  {
   "cell_type": "code",
   "execution_count": 2,
   "metadata": {},
   "outputs": [],
   "source": [
    "from essentia import *\n",
    "from essentia.standard import *\n",
    "from numpy import *\n",
    "import matplotlib.pyplot as plt\n",
    "import collections as cll\n",
    "import pandas as pd"
   ]
  },
  {
   "cell_type": "code",
   "execution_count": 32,
   "metadata": {},
   "outputs": [
    {
     "name": "stdout",
     "output_type": "stream",
     "text": [
      "['Neumman-07 render 015.wav']\n"
     ]
    }
   ],
   "source": [
    "# Initialize algorithms\n",
    "\n",
    "hopSize = 128\n",
    "frameSize = 2048\n",
    "sampleRate = 44100\n",
    "guessUnvoiced = True\n",
    "binResolution = 10\n",
    "\n",
    "run_windowing = Windowing(type='hann', zeroPadding=4 * frameSize)  # Hann window with x4 zero padding\n",
    "run_spectrum = Spectrum(size=frameSize * 4)\n",
    "run_spectral_peaks = SpectralPeaks(minFrequency=1,\n",
    "                                   maxFrequency=20000,\n",
    "                                   maxPeaks=100,\n",
    "                                   sampleRate=sampleRate,\n",
    "                                   magnitudeThreshold=0,\n",
    "                                   orderBy=\"frequency\")\n",
    "run_pitch_salience_function = PitchSalienceFunction()\n",
    "run_pitch_salience_function_peaks = PitchSalienceFunctionPeaks()\n",
    "run_pitch_contours = PitchContours(hopSize=hopSize)\n",
    "run_pitch_contours_melody = PitchContoursMelody(guessUnvoiced=guessUnvoiced,\n",
    "                                                hopSize=hopSize,\n",
    "                                                binResolution=binResolution)\n",
    "\n",
    "\n",
    "derivative_vector = []\n",
    "pitch_vector = []\n",
    "n_frames_vector = []\n",
    "percentage_vector = []\n",
    "time_vector = []\n",
    "difference_vector = []\n",
    "mean_vector = []\n",
    "max_vector = []\n",
    "index_max_vector = []\n",
    "max_loc_vector = []\n",
    "\n",
    "df = pd.read_csv('/home/sriram/Desktop/vibrato files/vibrato_analysis-master/Dataset/MTG-Violin/violin_vibrato.csv')\n",
    "files = []\n",
    "\n",
    "# Selecting the catagory to be anaylzed\n",
    "for i in range(len(df.File_Name)):\n",
    "    if df.Note[i] == 'A4':\n",
    "        files.append(df.File_Name[i])\n",
    "\n",
    "files=[files[1]]\n",
    "print(files)"
   ]
  },
  {
   "cell_type": "code",
   "execution_count": 33,
   "metadata": {},
   "outputs": [
    {
     "data": {
      "image/png": "[encoded data removed]",
      "text/plain": [
       "<Figure size 432x288 with 2 Axes>"
      ]
     },
     "metadata": {
      "needs_background": "light"
     },
     "output_type": "display_data"
    }
   ],
   "source": [
    "for file in files:\n",
    "    audio = MonoLoader(filename=file)()\n",
    "    audio = EqualLoudness()(audio)\n",
    "\n",
    "    # Create a Pool\n",
    "    pool = Pool();\n",
    "\n",
    "    # 2. Cut audio into frames and compute for each frame:\n",
    "    #    spectrum -> spectral peaks -> pitch salience function -> pitch salience function peaks\n",
    "    \n",
    "    for frame in FrameGenerator(audio, frameSize=frameSize, hopSize=hopSize):\n",
    "        frame = run_windowing(frame)\n",
    "        spectrum = run_spectrum(frame)\n",
    "        peak_frequencies, peak_magnitudes = run_spectral_peaks(spectrum)\n",
    "\n",
    "        salience = run_pitch_salience_function(peak_frequencies, peak_magnitudes)\n",
    "        salience_peaks_bins, salience_peaks_saliences = run_pitch_salience_function_peaks(salience)\n",
    "\n",
    "        pool.add('allframes_salience_peaks_bins', salience_peaks_bins)\n",
    "        pool.add('allframes_salience_peaks_saliences', salience_peaks_saliences)\n",
    "\n",
    "    # 3. Now, as we have gathered the required per-frame data, we can feed it to the contour\n",
    "    #    tracking and melody detection algorithms:\n",
    "    contours_bins, contours_saliences, contours_start_times, duration = run_pitch_contours(\n",
    "        pool['allframes_salience_peaks_bins'],\n",
    "        pool['allframes_salience_peaks_saliences'])\n",
    "    pitch, confidence = run_pitch_contours_melody(contours_bins,\n",
    "                                                  contours_saliences,\n",
    "                                                  contours_start_times,\n",
    "                                                  duration)\n",
    "    # Eliminating the noise at the beginning and at the end\n",
    "    abs_confidence = abs(confidence)\n",
    "    m_common = cll.Counter(abs_confidence).most_common()[0]\n",
    "    first = [index for index, val in enumerate(abs_confidence) if val == m_common[0]][0]\n",
    "    last = [index for index, val in enumerate(abs_confidence) if val == m_common[0]][-1]\n",
    "    pitch[0:first + 1] = 0\n",
    "    pitch[last:] = 0\n",
    "    pitch_vector.append(pitch)\n",
    "\n",
    "    n_frames = len(pitch)\n",
    "\n",
    "    time=arange(0,duration,duration/float(len(pitch)))\n",
    "    time_vector.append(time)\n",
    "    dr1 = derivative(pitch)\n",
    "    high_derivative_indexes = [index for index, val in enumerate(dr1) if val>100]\n",
    "    normalized_derivatives = [val for index, val in enumerate(dr1)\n",
    "                            if index not in high_derivative_indexes]\n",
    "    low_derivative_indexes = [index for index, val in enumerate(normalized_derivatives) if val<-100]\n",
    "    normalized_derivatives = [val for index, val in enumerate(normalized_derivatives)\n",
    "                              if index not in low_derivative_indexes]\n",
    "\n",
    "    derivative_vector.append(normalized_derivatives)\n",
    "\n",
    "    # Calculate the percentage of peaks od the pitch countor's derivative\n",
    "    peaknumber = 0\n",
    "    peaknumber = float(count_nonzero(normalized_derivatives))\n",
    "    length = float(len(normalized_derivatives))\n",
    "    peak_percentage = peaknumber/length*100.0\n",
    "    percentage_vector.append(peak_percentage)\n",
    "\n",
    "    # Calculates the differneces between peaks\n",
    "    difference = diff(normalized_derivatives)\n",
    "    difference_vector.append(difference)\n",
    "    # Calculates the mean and max values of the difference array\n",
    "    mean_vector.append(mean(difference))\n",
    "    max_vector.append(max(difference))\n",
    "\n",
    "    # Calculate the index of max differences to see if they appear in the end or in the beginning\n",
    "    index_max = [loc for loc,val in enumerate(difference) if val == max(difference)]\n",
    "    index_max_vector.append(index_max)\n",
    "    for i in range(len(index_max)):\n",
    "        max_loc = (index_max[i]+1)/float(len(difference))\n",
    "        max_loc_vector.append(max_loc)\n",
    "\n",
    "    plt.figure()\n",
    "    plt.subplot(211)\n",
    "    plt.plot(time,pitch)\n",
    "    plt.ylabel('Frequency (Hz)')\n",
    "    plt.xlabel('time (s)')\n",
    "    plt.suptitle('Pitch')\n",
    "    plt.subplot(212)\n",
    "    plt.plot(range(len(difference)),difference)\n",
    "    plt.ylabel('Peaks')\n",
    "    plt.xlabel('Frame Size')\n",
    "    plt.suptitle('First Derivative of the Pitch')\n",
    "\n",
    "plt.show()\n",
    "\n",
    "pass"
   ]
  },
  {
   "cell_type": "code",
   "execution_count": null,
   "metadata": {},
   "outputs": [],
   "source": []
  }
 ],
 "metadata": {
  "kernelspec": {
   "display_name": "Python 3",
   "language": "python",
   "name": "python3"
  },
  "language_info": {
   "codemirror_mode": {
    "name": "ipython",
    "version": 3
   },
   "file_extension": ".py",
   "mimetype": "text/x-python",
   "name": "python",
   "nbconvert_exporter": "python",
   "pygments_lexer": "ipython3",
   "version": "3.5.2"
  }
 },
 "nbformat": 4,
 "nbformat_minor": 2
}
